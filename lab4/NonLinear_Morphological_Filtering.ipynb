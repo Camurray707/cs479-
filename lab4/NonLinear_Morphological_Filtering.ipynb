{
 "cells": [
  {
   "cell_type": "markdown",
   "id": "e1fc9ada",
   "metadata": {
    "id": "LOFv7YsvAEFI"
   },
   "source": [
    "## Non-linear filters"
   ]
  },
  {
   "cell_type": "markdown",
   "id": "2591313f",
   "metadata": {
    "id": "P6dns0DuAEFI"
   },
   "source": [
    "Another class of filters does not use convolution to filter the image but does some other type of operation on small neighborhoods of the image. For example it can calculate the median value of each 3x3 sub-region in the image. This is extremely useful if our image has pixels that are \"dead\" or have extremely large values.\n",
    "\n",
    "For purpose of illustration, we can artificially create such an image using `skimage` or `scipy`."
   ]
  },
  {
   "cell_type": "code",
   "execution_count": null,
   "id": "94f6e599",
   "metadata": {},
   "outputs": [],
   "source": [
    "import scipy\n",
    "import scipy.ndimage as ndi \n",
    "import numpy as np\n",
    "import skimage\n",
    "from skimage import io, filters\n",
    "from skimage import data, img_as_float\n",
    "import matplotlib.pyplot as plt\n",
    "import os\n",
    "import math"
   ]
  },
  {
   "cell_type": "markdown",
   "id": "0fbb49ad",
   "metadata": {},
   "source": [
    "### Noise\n",
    "Let us generate some noisy images"
   ]
  },
  {
   "cell_type": "code",
   "execution_count": null,
   "id": "610ca1d4",
   "metadata": {},
   "outputs": [],
   "source": [
    "import skimage.util.noise as noise \n",
    "img = data.camera()\n",
    "img_sp1 = noise.random_noise(img,mode='s&p') \n",
    "img_sp2 = noise.random_noise(img,mode='s&p',amount=0.3)\n",
    "img_speck = noise.random_noise(img,'speckle') \n",
    "img_gauss = noise.random_noise(img,'gaussian')\n",
    "\n",
    "fig, ax = plt.subplots(nrows=2, ncols=2, figsize=(8, 8), sharex = True, sharey = True) #figsize controls relative size of images\n",
    "ax = ax.ravel()\n",
    "\n",
    "ax[0].imshow(img_sp1, cmap='gray', vmin = 0, vmax = 1) \n",
    "ax[0].set_title('Salt and Pepper (default)')\n",
    "ax[1].imshow(img_sp2, cmap='gray', vmin = 0, vmax = 1)\n",
    "ax[1].set_title('Salt and Pepper (0.3)')\n",
    "ax[2].imshow(img_speck, cmap='gray', vmin = 0, vmax = 1) \n",
    "ax[2].set_title('Speckle')\n",
    "ax[3].imshow(img_gauss, cmap='gray', vmin = 0, vmax = 1) \n",
    "ax[3].set_title('Gaussian')\n",
    "\n",
    "\n",
    "# prevent overlap of y-axis labels\n",
    "plt.tight_layout()"
   ]
  },
  {
   "cell_type": "markdown",
   "id": "e6ea2d27",
   "metadata": {},
   "source": [
    "Non-linear filters can be implemented using `rank_filter` method in `scipy`. A non-linear filter is obtained by a non-linear function of the grayscale values in the mask. Simple examples are maximum filter, which has as its output the maximum value under the mask, and the corresponding minimum filter, which has as its output the minimum value under the mask. Another one that we have previously described is the median filter, which has as its output the median value under the mask. Let us see the output of all these filters on the cameraman image.\n"
   ]
  },
  {
   "cell_type": "code",
   "execution_count": null,
   "id": "01977941",
   "metadata": {},
   "outputs": [],
   "source": [
    "?ndi.rank_filter"
   ]
  },
  {
   "cell_type": "code",
   "execution_count": null,
   "id": "916e521f",
   "metadata": {},
   "outputs": [],
   "source": [
    "img= img_as_float(img)\n",
    "imgmedian = ndi.rank_filter(img,60,size=(11,11)) #60 is the mid-point of a 11 x 11 filter (0 through 120 values)\n",
    "imgmin = ndi.rank_filter(img,0,size=(11,11))\n",
    "imgmax = ndi.rank_filter(img,120,size=(11,11))\n",
    "\n",
    "fig, ax = plt.subplots(nrows=2, ncols=2, figsize=(8, 8), sharex = True, sharey = True) #figsize controls relative size of images\n",
    "ax = ax.ravel()\n",
    "\n",
    "ax[0].imshow(img, cmap='gray', vmin = 0, vmax = 1) \n",
    "ax[0].set_title(\"Original image\")\n",
    "ax[1].imshow(imgmedian, cmap='gray', vmin = 0, vmax = 1) \n",
    "ax[1].set_title(\"Output of a 11x11 Median filter\")\n",
    "\n",
    "ax[2].imshow(imgmin, cmap='gray', vmin = 0, vmax = 1)\n",
    "ax[2].set_title(\"Output of a 11x11 Minimum filter\")\n",
    "\n",
    "ax[3].imshow(imgmax, cmap='gray', vmin = 0, vmax = 1) \n",
    "ax[3].set_title(\"Output of a 11x11 Maximum filter\")\n",
    "\n",
    "fig.suptitle(\"Impact of non-linear filters on the cameraman image\")\n"
   ]
  },
  {
   "cell_type": "markdown",
   "id": "f83629aa",
   "metadata": {},
   "source": [
    "Note the difference in output of these three non-linear filters. But these were applied on the camera image which did not have any noise. How do these filter responses change if the filter size (currently 11 x 11) is changed?\n",
    "\n",
    "Let us assess the impact of changing the size of the median filter when applied on a noisy image."
   ]
  },
  {
   "cell_type": "code",
   "execution_count": null,
   "id": "e4f24f7a",
   "metadata": {},
   "outputs": [],
   "source": [
    "imgmedian_11_sp1 = ndi.rank_filter(img_sp1,112,size=(15,15)) #112 is the mid-point of a 15 x 15 filter (0 through 225 values)\n",
    "imgmedian_5_sp1 = ndi.rank_filter(img_sp1,12,size=(5,5)) #12 is the mid-point of a 5 x 5 filter (0 through 24 values)\n",
    "imgmedian_11_sp2 = ndi.rank_filter(img_sp2,112,size=(15,15)) \n",
    "imgmedian_5_sp2 = ndi.rank_filter(img_sp2,12,size=(5,5))\n",
    "\n",
    "fig, ax = plt.subplots(nrows=2, ncols=3, figsize=(12, 8), sharex = True, sharey = True) #figsize controls relative size of images\n",
    "ax = ax.ravel()\n",
    "\n",
    "ax[0].imshow(img_sp1, cmap='gray', vmin = 0, vmax = 1) \n",
    "ax[0].set_title(\"default salt&pepper noise\")\n",
    "\n",
    "ax[1].imshow(imgmedian_5_sp1, cmap='gray', vmin = 0, vmax = 1) \n",
    "ax[1].set_title(\"5x5 median filter\")\n",
    "\n",
    "ax[2].imshow(imgmedian_11_sp1, cmap='gray', vmin = 0, vmax = 1) \n",
    "ax[2].set_title(\"15x15 median filter\")\n",
    "\n",
    "\n",
    "ax[3].imshow(img_sp2, cmap='gray', vmin = 0, vmax = 1) \n",
    "ax[3].set_title(\"increased salt&pepper noise\")\n",
    "\n",
    "ax[4].imshow(imgmedian_5_sp2, cmap='gray', vmin = 0, vmax = 1)\n",
    "ax[4].set_title(\"5x5 median filter\")\n",
    "\n",
    "ax[5].imshow(imgmedian_11_sp2, cmap='gray', vmin = 0, vmax = 1) \n",
    "ax[5].set_title(\"15x15 median filter\")\n",
    "\n",
    "fig.suptitle(\"Impact of median filters on Salt & Pepper cameraman images\")\n",
    "\n"
   ]
  },
  {
   "cell_type": "markdown",
   "id": "1729078f",
   "metadata": {},
   "source": [
    "The added noise is efficiently removed, and a small filter size is sufficient. As the filter size increases, objects with bigger sizes get filtered as well, such as the\n",
    "camera tripod. The median filter also preserves borders (hence the word edge-preserving). \n",
    "\n",
    "Why does the median filter work in removing Salt and Pepper noise? Because, Salt and Pepper noise is located only on a\n",
    "few pixels that the filter is processing. The median filter will ignore the noisy pixels, for they will appear\n",
    "as outliers; thus, it will not change significantly the median of a group of\n",
    "local pixels, in contrast to what a moving average filter would do."
   ]
  },
  {
   "cell_type": "markdown",
   "id": "8f9d46ea",
   "metadata": {
    "deletable": false,
    "editable": false,
    "nbgrader": {
     "cell_type": "markdown",
     "checksum": "22e8bf9ec2c57cc62f47954d8118f690",
     "grade": false,
     "grade_id": "cell-e6cc3dae6db436e3",
     "locked": true,
     "schema_version": 3,
     "solution": false,
     "task": false
    }
   },
   "source": [
    "## Part A (3 points)\n",
    "\n",
    "Apply a `uniform filter` (which is a linear filter) to each of the [noisy image above](#Noise) and observe the response. How does the response change as the size of the `uniform filter` increases? Which noise is removed most effectively?"
   ]
  },
  {
   "cell_type": "markdown",
   "id": "05b32262",
   "metadata": {
    "deletable": false,
    "nbgrader": {
     "cell_type": "markdown",
     "checksum": "4de634167b06bd370e5d945fb66f6fc0",
     "grade": true,
     "grade_id": "cell-452bab1c20594a1b",
     "locked": false,
     "points": 3,
     "schema_version": 3,
     "solution": true,
     "task": false
    }
   },
   "source": [
    "YOUR ANSWER HERE"
   ]
  },
  {
   "cell_type": "markdown",
   "id": "e31a61da",
   "metadata": {},
   "source": [
    "## Removing Gaussian Noise\n",
    "A strategy to remove Gaussian noise is provided below. This is applicable when several images of the same object can be taken such as in astronomy or in microscopy. Due to sensor noise, each image is corrupted by Gaussian noise. In such cases, the algorithm below works well.\n",
    "\n",
    "![Cleaning Gaussian Noise](cleaningGaussianNoise.jpeg)"
   ]
  },
  {
   "cell_type": "markdown",
   "id": "8675bd77",
   "metadata": {
    "deletable": false,
    "editable": false,
    "nbgrader": {
     "cell_type": "markdown",
     "checksum": "69dacd51ba5a5ded4fc2e6322a2e48b2",
     "grade": false,
     "grade_id": "cell-0e57330cccffa5ac",
     "locked": true,
     "schema_version": 3,
     "solution": false,
     "task": false
    }
   },
   "source": [
    "## Part B (10 points) \n",
    "Apply the algorithm given above to remove Gaussian noise from images in the directory `noisyImages`. It will require you to iterate over all images. Use `glob.glob(dir)` to extract list of `files` in `dir`. To store all images in a numpy array, it may be helpful to extract shape of any one image in the directory to be able to specify the overall size of the numpy array ."
   ]
  },
  {
   "cell_type": "code",
   "execution_count": null,
   "id": "65fde493",
   "metadata": {
    "deletable": false,
    "nbgrader": {
     "cell_type": "code",
     "checksum": "8381d67560a97076862ae6cd58b03a34",
     "grade": false,
     "grade_id": "cell-69ac70b9df7d2608",
     "locked": false,
     "schema_version": 3,
     "solution": true,
     "task": false
    }
   },
   "outputs": [],
   "source": [
    "import glob\n",
    "\n",
    "def removeGaussianNoise(imgDir = 'wfc3_uvis'):\n",
    "    \n",
    "    dirname = os.path.join(os.getcwd(),'noisyImages',imgDir)\n",
    "    numfiles = len(glob.glob(dirname + \"/*.png\"))\n",
    "    print(dirname, 'Number of files = ' + str(numfiles), sep = '\\n')\n",
    "    \n",
    "    \n",
    "    # YOUR CODE HERE\n",
    "    raise NotImplementedError()"
   ]
  },
  {
   "cell_type": "code",
   "execution_count": null,
   "id": "abc70c40",
   "metadata": {},
   "outputs": [],
   "source": [
    "from numpy.random import default_rng\n",
    "\n",
    "#Helper function to display some images randomly from the directory imgDir, \n",
    "#along with the clean image obtained by calling removeGaussianNoise\n",
    "def showImages(imgDir, cleanImg):\n",
    "    rng = default_rng()\n",
    "\n",
    "    #Select some images randomly from imgDir and show them along with cleanImg\n",
    "    dirname = os.path.join(os.getcwd(),'noisyImages',imgDir)\n",
    "    numfiles = len(glob.glob(dirname + \"/*.png\"))\n",
    "    files = []\n",
    "    for file in glob.glob(dirname + \"/*.png\"):\n",
    "        files.append(file)\n",
    "\n",
    "    x = rng.choice(numfiles, size=3, replace=False)\n",
    "    print(\"random indices:\", x)\n",
    "    fig, ax = plt.subplots(nrows=2, ncols=2, figsize=(15, 10), sharex = True, sharey = True) \n",
    "    ax = ax.ravel()\n",
    "    for i in range(3):\n",
    "        img = io.imread(files[x[i]])\n",
    "        ax[i].imshow(img)\n",
    "\n",
    "    ax[3].imshow(cleanImg)\n",
    "    plt.tight_layout()\n"
   ]
  },
  {
   "cell_type": "code",
   "execution_count": null,
   "id": "67a3ff09",
   "metadata": {
    "deletable": false,
    "editable": false,
    "nbgrader": {
     "cell_type": "code",
     "checksum": "5a606eb5cbafffe4faef529a00ca2bc1",
     "grade": true,
     "grade_id": "cell-29feaa97827ad57d",
     "locked": true,
     "points": 5,
     "schema_version": 3,
     "solution": false,
     "task": false
    }
   },
   "outputs": [],
   "source": [
    "imgDir = 'wfc3_uvis'\n",
    "cleanImg = removeGaussianNoise(imgDir)\n",
    "\n",
    "assert cleanImg.shape[0] == 346\n",
    "assert math.isclose(cleanImg.mean(), 0.25733878625)\n",
    "\n",
    "showImages(imgDir, cleanImg)\n",
    "print(\"Success!\")"
   ]
  },
  {
   "cell_type": "code",
   "execution_count": null,
   "id": "a27ac94c",
   "metadata": {
    "deletable": false,
    "editable": false,
    "nbgrader": {
     "cell_type": "code",
     "checksum": "a664f31250716e4fa4dd9dc811c9825c",
     "grade": true,
     "grade_id": "cell-994472389df1d9df",
     "locked": true,
     "points": 5,
     "schema_version": 3,
     "solution": false,
     "task": false
    }
   },
   "outputs": [],
   "source": [
    "imgDir = 'orion'\n",
    "cleanImg = removeGaussianNoise(imgDir)\n",
    "\n",
    "assert cleanImg.shape[0] == 600\n",
    "assert math.isclose(cleanImg.mean(), 0.23500850036)\n",
    "\n",
    "showImages(imgDir, cleanImg)\n",
    "print(\"Success!\")"
   ]
  },
  {
   "cell_type": "markdown",
   "id": "b2a2999d",
   "metadata": {
    "deletable": false,
    "editable": false,
    "nbgrader": {
     "cell_type": "markdown",
     "checksum": "40f2ed66361ae1223e90d343be6cb6e1",
     "grade": false,
     "grade_id": "cell-4fa3f03c7f4f9717",
     "locked": true,
     "schema_version": 3,
     "solution": false,
     "task": false
    }
   },
   "source": [
    "## Part C (5 points) \n",
    "\n",
    "Check out the description of the problem of Pesky Tourist [here](http://nifty.stanford.edu/2014/nicholson-the-pesky-tourist/student.html). You may see the images in the directory `ThePeskyTourist` provided as a part of this lab. Your task is to remove the Pesky Tourist from the images! The algorithm is very similar to above (that removes Gaussian noise) but taking a median instead of taking an average."
   ]
  },
  {
   "cell_type": "code",
   "execution_count": null,
   "id": "87fc1a85",
   "metadata": {
    "deletable": false,
    "nbgrader": {
     "cell_type": "code",
     "checksum": "57343077cdb28205531a609cfca82765",
     "grade": false,
     "grade_id": "cell-a2ae3a8b94bc5603",
     "locked": false,
     "schema_version": 3,
     "solution": true,
     "task": false
    }
   },
   "outputs": [],
   "source": [
    "def removePeskyTourist():\n",
    "    \n",
    "    imgDir = 'ThePeskyTourist'\n",
    "    dirname = os.path.join(os.getcwd(),imgDir)\n",
    "    numfiles = len(glob.glob(dirname + \"/*.png\"))\n",
    "    print(dirname, 'Number of files = ' + str(numfiles), sep = '\\n')\n",
    "    \n",
    "    # YOUR CODE HERE\n",
    "    raise NotImplementedError()"
   ]
  },
  {
   "cell_type": "code",
   "execution_count": null,
   "id": "5e154f79",
   "metadata": {
    "deletable": false,
    "editable": false,
    "nbgrader": {
     "cell_type": "code",
     "checksum": "3ba8848c80bbd3ebd01b712311c44859",
     "grade": true,
     "grade_id": "cell-0206042a9e5412e4",
     "locked": true,
     "points": 5,
     "schema_version": 3,
     "solution": false,
     "task": false
    }
   },
   "outputs": [],
   "source": [
    "cleanImg = removePeskyTourist()\n",
    "\n",
    "assert cleanImg.shape[0] == 557\n",
    "assert math.isclose(cleanImg.mean(), 0.52157602355)\n",
    "\n",
    "print(\"Success!\")\n",
    "\n"
   ]
  },
  {
   "cell_type": "code",
   "execution_count": null,
   "id": "97e16a9d",
   "metadata": {},
   "outputs": [],
   "source": [
    "from numpy.random import default_rng\n",
    "\n",
    "rng = default_rng()\n",
    "\n",
    "#Select some images randomly from imgDir and show them along with cleanImg\n",
    "dirname = os.path.join(os.getcwd(),'ThePeskyTourist')\n",
    "numfiles = len(glob.glob(dirname + \"/*.png\"))\n",
    "files = []\n",
    "for file in glob.glob(dirname + \"/*.png\"):\n",
    "    files.append(file)\n",
    "    \n",
    "x = rng.choice(numfiles, size=3, replace=False)\n",
    "print(x)\n",
    "fig, ax = plt.subplots(nrows=2, ncols=2, figsize=(15, 10), sharex = True, sharey = True) \n",
    "ax = ax.ravel()\n",
    "for i in range(3):\n",
    "    img = io.imread(files[x[i]])\n",
    "    ax[i].imshow(img)\n",
    "\n",
    "ax[3].imshow(cleanImg)\n",
    "plt.tight_layout()\n"
   ]
  },
  {
   "cell_type": "markdown",
   "id": "7d381df4",
   "metadata": {},
   "source": [
    "## Bilateral filters\n",
    "Linear filters (and many non-linear filters) are **domain filters**, where the weights attached to\n",
    "each neighboring pixel depend on only the position of those pixels (weights change as the position changes). One of the *domain filter* is the *Spatial Gaussian* (from the video). \n",
    "\n",
    "Another family of filters are the **range filters**, where the weights depend on the relative difference between pixel values (i.e. weights only depend on the relative difference, not on position). One of the *range filter* is the *Brightness Gaussian* (from the video). \n",
    "\n",
    "The idea of the **bilateral filter** is to use both domain and range filtering. That is, combining *Spatial Gaussian* and *Brightness Gaussian* with sigma σ_d and σ_r, respectively. For each pixel in the image, a range filter maps the similarity of pixels in that neighborhood. That filter is then convolved with the domain filter. \n",
    "\n",
    "By adjusting the sigmas, it is possible to obtain\n",
    "varying amounts of blurring, **as well as keeping the edges sharp**. In other words, a bilateral filter is an edge-preserving and noise reducing filter. It averages pixels based on their spatial closeness (used by domain filter) and radiometric similarity (used by range filter)."
   ]
  },
  {
   "cell_type": "code",
   "execution_count": null,
   "id": "d20dc63a",
   "metadata": {},
   "outputs": [],
   "source": [
    "?skimage.restoration.denoise_bilateral"
   ]
  },
  {
   "cell_type": "code",
   "execution_count": null,
   "id": "1fa47162",
   "metadata": {},
   "outputs": [],
   "source": [
    "from skimage.restoration import denoise_bilateral\n",
    "\n",
    "\n",
    "img = data.camera()\n",
    "img_sp1 = noise.random_noise(img,mode='s&p') \n",
    "img_speck = noise.random_noise(img,'speckle') \n",
    "img_gauss = noise.random_noise(img,'gaussian')\n",
    "#To make sure bilateral denoising works, make sure image is converted to float\n",
    "\n",
    "#sigma_color is the sigma for range filter (σ_r) \n",
    "#sigma_spatial is the sigma for domain filter (σ_d)\n",
    "img_db1 = denoise_bilateral(img, sigma_color=0.1, sigma_spatial=5) \n",
    "img_db2 = denoise_bilateral(img_sp1, sigma_color=0.1, sigma_spatial=5) \n",
    "img_db3 = denoise_bilateral(img_speck, sigma_color=0.1, sigma_spatial=5) \n",
    "img_db4 = denoise_bilateral(img_gauss, sigma_color=0.1, sigma_spatial=5) \n",
    "\n",
    "fig, ax = plt.subplots(nrows=2, ncols=2, figsize=(8, 8), sharex = True, sharey = True) #figsize controls relative size of images\n",
    "ax = ax.ravel()\n",
    "\n",
    "ax[0].imshow(img_db1, cmap='gray', vmin = 0, vmax = 1) \n",
    "ax[1].imshow(img_db2, cmap='gray', vmin = 0, vmax = 1) \n",
    "ax[2].imshow(img_db3, cmap='gray', vmin = 0, vmax = 1)\n",
    "ax[3].imshow(img_db4, cmap='gray', vmin = 0, vmax = 1) \n",
    "\n",
    "fig.suptitle(\"Impact of bilateral filters on differnt noisy images\")\n",
    "plt.tight_layout()\n"
   ]
  },
  {
   "cell_type": "markdown",
   "id": "ff984ca8",
   "metadata": {
    "deletable": false,
    "editable": false,
    "nbgrader": {
     "cell_type": "markdown",
     "checksum": "16aaf08a4211e612336bbb61843024b5",
     "grade": false,
     "grade_id": "cell-9731ad1c7b5ee5f4",
     "locked": true,
     "schema_version": 3,
     "solution": false,
     "task": false
    }
   },
   "source": [
    "## Part D (3 points)\n",
    "\n",
    "Update the sigmas (σ_d and σ_r) and observe the impact of Bilateral-filtering. On what kind of noise is Bilateral filtering most effective? On what kind of noise it is least effective? \n",
    "\n",
    "Change the image used above and verify your claim is general and not just for the cameraman image. Clearly specify in your response below, which images you used and what parameter tuning on sigma (σ_d and σ_r) did you do to reach your conclusion. "
   ]
  },
  {
   "cell_type": "markdown",
   "id": "fe93183a",
   "metadata": {
    "deletable": false,
    "nbgrader": {
     "cell_type": "markdown",
     "checksum": "a07513babf45bcc996f45cc8b38d67e1",
     "grade": true,
     "grade_id": "cell-bd5bab59fa71f989",
     "locked": false,
     "points": 3,
     "schema_version": 3,
     "solution": true,
     "task": false
    }
   },
   "source": [
    "YOUR ANSWER HERE"
   ]
  },
  {
   "cell_type": "markdown",
   "id": "2c09cacf",
   "metadata": {},
   "source": [
    "### Structuring element or \"footprint\"\n",
    "\n",
    "Until now we have used the method `ndi.rank_filter` for various purposes (such as computing the median, maximum, minimum y providing a different `rank`). These non-linear operations can also be directly computed using methods in `skimage.filters.rank` library. These either operate on a default region (such as a 3x3 square region in case of a median filter) but we can specify any other shape or *footprint*. For example, we can use a Numpy array to construct the footprint ourselves or  we can use pre-made shapes that are available directly in scikit-image such as a disk with a certain radius. Let us try these out!\n",
    " "
   ]
  },
  {
   "cell_type": "code",
   "execution_count": null,
   "id": "804be66b",
   "metadata": {},
   "outputs": [],
   "source": [
    "img = data.camera()\n",
    "image_noisy = noise.random_noise(img,mode='s&p') \n",
    "\n",
    "filtered_median_default = skimage.filters.median(image_noisy)\n",
    "\n",
    "#Construct footprint using numpy array\n",
    "footprint = np.ones((7,7))\n",
    "filtered_median_square = skimage.filters.median(image_noisy, footprint=footprint)\n",
    "\n",
    "#Construct footprint using a disk available in skimage\n",
    "footprint = skimage.morphology.disk(5)\n",
    "filtered_median_disk = skimage.filters.median(image_noisy, footprint=footprint)\n",
    "\n",
    "fig, ax = plt.subplots(nrows=2, ncols=2, figsize=(8, 8), sharex = True, sharey = True) #figsize controls relative size of images\n",
    "ax = ax.ravel()\n",
    "\n",
    "ax[0].imshow(image_noisy, cmap='gray', vmin = 0, vmax = 1) \n",
    "ax[0].set_title(\"Noisy image\")\n",
    "ax[1].imshow(filtered_median_default, cmap='gray', vmin = 0, vmax = 1) \n",
    "ax[1].set_title(\"Output of a default 3x3 Median filter\")\n",
    "\n",
    "ax[2].imshow(filtered_median_square, cmap='gray', vmin = 0, vmax = 1)\n",
    "ax[2].set_title(\"Output of a 7x7 square footprint\")\n",
    "\n",
    "ax[3].imshow(filtered_median_disk, cmap='gray', vmin = 0, vmax = 1) \n",
    "ax[3].set_title(\"Output of a 5x5 disk footprint\")\n",
    "\n",
    "fig.suptitle(\"Impact of median filters with different footprint\")\n"
   ]
  },
  {
   "cell_type": "markdown",
   "id": "87cd6a5b",
   "metadata": {},
   "source": [
    "As we will see next, the ability to specify footprints come in very handy during the so-called morphological operations."
   ]
  },
  {
   "cell_type": "markdown",
   "id": "2df93d0d",
   "metadata": {
    "id": "IjTAvcHOAEE8"
   },
   "source": [
    "## Morphological operations\n",
    "\n",
    "Filtering images is at the core of image processing. As we have seen, the idea is to use a small image that travels across a larger image and does some operation on each sub-region of this larger image. Multiple properties of the *little travelling square* can change:\n",
    "- the pixel values of the square can be anything. For example it's common to have a 2D gaussian for smoothing the image\n",
    "- the size and shape of the square can change\n",
    "- the operation done by the square does not have to be a simple multiplication-addition (convolution). It can also be another function like a median for example, which we have seen above.\n",
    "\n",
    "Filters can be applied to regular images, as well as to masks (binary images) and are often used to clean-up an image or to detect object. When working with masks, one can use another class of filters, that just turn pixels ON and OFF depending on their surroundings. These are called morphological filters. `scikit-image` implements these filters in ```skimage.morphology``` and we are going to look at a few.\n",
    "\n",
    "The simplest morphological filters to understand are the `erosion` and `dilation` filters. As their name indicate, these filters either shrink or enlarge ON objects. The size and shape of the filters, specify what region is considered around objects to shrink or enlarge them. We use here again the ```footprint``` argument to specify such structuring elements.\n",
    "\n",
    "Let's load one of the images we have seen in a previous lab and create a simple mask using an Otsu threshold:"
   ]
  },
  {
   "cell_type": "code",
   "execution_count": null,
   "id": "131d7c37",
   "metadata": {},
   "outputs": [],
   "source": [
    "image_stack = skimage.io.imread('46658_784_B12_1.tif')\n",
    "image_nuclei = image_stack[1250:1750,300:800,2]"
   ]
  },
  {
   "cell_type": "code",
   "execution_count": null,
   "id": "b4823f2a",
   "metadata": {},
   "outputs": [],
   "source": [
    "#plt.subplots(figsize=(10,10))\n",
    "plt.imshow(image_nuclei, cmap = 'gray')"
   ]
  },
  {
   "cell_type": "code",
   "execution_count": null,
   "id": "6835989f",
   "metadata": {
    "colab": {
     "base_uri": "https://localhost:8080/",
     "height": 268
    },
    "executionInfo": {
     "elapsed": 644,
     "status": "ok",
     "timestamp": 1616250156813,
     "user": {
      "displayName": "Guillaume Witz",
      "photoUrl": "https://lh3.googleusercontent.com/a-/AOh14GgT0K2JVYzEsjzsS5nhkUVjUrSIJ5jHzXnBoYrmVf8=s64",
      "userId": "16033870147214403532"
     },
     "user_tz": -60
    },
    "id": "TRrBz3j3AEFK",
    "outputId": "2bda52ef-abe2-4ca1-a06d-54bbf1438ce6"
   },
   "outputs": [],
   "source": [
    "mask = image_nuclei > skimage.filters.threshold_otsu(image_nuclei)\n",
    "\n",
    "plt.imshow(mask, cmap = 'gray');"
   ]
  },
  {
   "cell_type": "markdown",
   "id": "34c36d9a",
   "metadata": {
    "id": "4JD66ufnAEFK"
   },
   "source": [
    "We can just specify the influence region as a Numpy array. For example a square of size 5:"
   ]
  },
  {
   "cell_type": "code",
   "execution_count": null,
   "id": "bbb118f5",
   "metadata": {
    "id": "YURHgt4NAEFK"
   },
   "outputs": [],
   "source": [
    "influence_region = np.ones((5,5))"
   ]
  },
  {
   "cell_type": "code",
   "execution_count": null,
   "id": "b26477e0",
   "metadata": {
    "id": "ymBDDyEtAEFK"
   },
   "outputs": [],
   "source": [
    "eroded = skimage.morphology.binary_erosion(mask, footprint=influence_region)"
   ]
  },
  {
   "cell_type": "code",
   "execution_count": null,
   "id": "bf424e91",
   "metadata": {
    "colab": {
     "base_uri": "https://localhost:8080/",
     "height": 268
    },
    "executionInfo": {
     "elapsed": 935,
     "status": "ok",
     "timestamp": 1616250176215,
     "user": {
      "displayName": "Guillaume Witz",
      "photoUrl": "https://lh3.googleusercontent.com/a-/AOh14GgT0K2JVYzEsjzsS5nhkUVjUrSIJ5jHzXnBoYrmVf8=s64",
      "userId": "16033870147214403532"
     },
     "user_tz": -60
    },
    "id": "8rJ02lgmAEFL",
    "outputId": "0cb1e7b9-d123-4cdb-8cd6-39fbe5fef76f"
   },
   "outputs": [],
   "source": [
    "plt.imshow(eroded, cmap = 'gray');"
   ]
  },
  {
   "cell_type": "markdown",
   "id": "791c18da",
   "metadata": {
    "id": "Njoez95vAEFL"
   },
   "source": [
    "We can `erode` even more:"
   ]
  },
  {
   "cell_type": "code",
   "execution_count": null,
   "id": "8c533fee",
   "metadata": {
    "colab": {
     "base_uri": "https://localhost:8080/",
     "height": 268
    },
    "executionInfo": {
     "elapsed": 583,
     "status": "ok",
     "timestamp": 1616250182552,
     "user": {
      "displayName": "Guillaume Witz",
      "photoUrl": "https://lh3.googleusercontent.com/a-/AOh14GgT0K2JVYzEsjzsS5nhkUVjUrSIJ5jHzXnBoYrmVf8=s64",
      "userId": "16033870147214403532"
     },
     "user_tz": -60
    },
    "id": "i7EzjXHPAEFL",
    "outputId": "22a1c278-d4f0-425b-ddee-3bd9ba7ad7f2"
   },
   "outputs": [],
   "source": [
    "influence_region = np.ones((10,10))\n",
    "\n",
    "eroded = skimage.morphology.binary_erosion(mask, footprint=influence_region)\n",
    "\n",
    "plt.imshow(eroded, cmap = 'gray');"
   ]
  },
  {
   "cell_type": "markdown",
   "id": "bf775561",
   "metadata": {
    "id": "fxQEwb_NAEFL"
   },
   "source": [
    "We can do the reverse and `dilate` our image:"
   ]
  },
  {
   "cell_type": "code",
   "execution_count": null,
   "id": "0068042c",
   "metadata": {
    "colab": {
     "base_uri": "https://localhost:8080/",
     "height": 268
    },
    "executionInfo": {
     "elapsed": 624,
     "status": "ok",
     "timestamp": 1616250189116,
     "user": {
      "displayName": "Guillaume Witz",
      "photoUrl": "https://lh3.googleusercontent.com/a-/AOh14GgT0K2JVYzEsjzsS5nhkUVjUrSIJ5jHzXnBoYrmVf8=s64",
      "userId": "16033870147214403532"
     },
     "user_tz": -60
    },
    "id": "F5mWI_2mAEFM",
    "outputId": "d838902e-228e-41f2-8e3e-21a6beb85cb7"
   },
   "outputs": [],
   "source": [
    "influence_region = np.ones((10,10))\n",
    "\n",
    "dilated = skimage.morphology.binary_dilation(mask, footprint=influence_region)\n",
    "\n",
    "plt.imshow(dilated, cmap = 'gray');"
   ]
  },
  {
   "cell_type": "markdown",
   "id": "71689661",
   "metadata": {
    "id": "8JCPl35CAEFM"
   },
   "source": [
    "How are these operators useful in image processing ? Let's again generate a noisy image."
   ]
  },
  {
   "cell_type": "code",
   "execution_count": null,
   "id": "b7d99ec7",
   "metadata": {
    "id": "hKF4wD-YAEFI"
   },
   "outputs": [],
   "source": [
    "image_noisy = skimage.util.random_noise(image_nuclei, mode='s&p')\n",
    "plt.imshow(image_noisy, cmap = 'gray');"
   ]
  },
  {
   "cell_type": "markdown",
   "id": "500c43ae",
   "metadata": {},
   "source": [
    "Our mask would look like this:"
   ]
  },
  {
   "cell_type": "code",
   "execution_count": null,
   "id": "559289ff",
   "metadata": {
    "colab": {
     "base_uri": "https://localhost:8080/",
     "height": 268
    },
    "executionInfo": {
     "elapsed": 690,
     "status": "ok",
     "timestamp": 1616250195846,
     "user": {
      "displayName": "Guillaume Witz",
      "photoUrl": "https://lh3.googleusercontent.com/a-/AOh14GgT0K2JVYzEsjzsS5nhkUVjUrSIJ5jHzXnBoYrmVf8=s64",
      "userId": "16033870147214403532"
     },
     "user_tz": -60
    },
    "id": "ktOCLemhAEFM",
    "outputId": "e3469b78-4bad-4f21-a1fa-52d3364522db"
   },
   "outputs": [],
   "source": [
    "mask = image_noisy > skimage.filters.threshold_otsu(image_noisy)\n",
    "\n",
    "plt.imshow(mask, cmap = 'gray');"
   ]
  },
  {
   "cell_type": "markdown",
   "id": "826f2bcb",
   "metadata": {
    "id": "fu7O936yAEFO"
   },
   "source": [
    "We can now fill the little holes in the nuclei with a small dilation:"
   ]
  },
  {
   "cell_type": "code",
   "execution_count": null,
   "id": "735b6c56",
   "metadata": {
    "colab": {
     "base_uri": "https://localhost:8080/",
     "height": 268
    },
    "executionInfo": {
     "elapsed": 1645,
     "status": "ok",
     "timestamp": 1616250202026,
     "user": {
      "displayName": "Guillaume Witz",
      "photoUrl": "https://lh3.googleusercontent.com/a-/AOh14GgT0K2JVYzEsjzsS5nhkUVjUrSIJ5jHzXnBoYrmVf8=s64",
      "userId": "16033870147214403532"
     },
     "user_tz": -60
    },
    "id": "_E89eDrOAEFO",
    "outputId": "912bc544-14bd-4645-e874-58e8338e5b1e"
   },
   "outputs": [],
   "source": [
    "influence_region = np.ones((2,2))\n",
    "\n",
    "step1 = skimage.morphology.binary_dilation(mask, footprint=influence_region)\n",
    "\n",
    "plt.imshow(step1, cmap = 'gray');"
   ]
  },
  {
   "cell_type": "markdown",
   "id": "646ee853",
   "metadata": {
    "id": "_BsHdfywAEFO"
   },
   "source": [
    "And erode again to put the nuclei back to their original size:"
   ]
  },
  {
   "cell_type": "code",
   "execution_count": null,
   "id": "3efb7fbe",
   "metadata": {
    "colab": {
     "base_uri": "https://localhost:8080/",
     "height": 268
    },
    "executionInfo": {
     "elapsed": 698,
     "status": "ok",
     "timestamp": 1616250207550,
     "user": {
      "displayName": "Guillaume Witz",
      "photoUrl": "https://lh3.googleusercontent.com/a-/AOh14GgT0K2JVYzEsjzsS5nhkUVjUrSIJ5jHzXnBoYrmVf8=s64",
      "userId": "16033870147214403532"
     },
     "user_tz": -60
    },
    "id": "uKfVWtOzAEFP",
    "outputId": "b25281dc-4ce4-4446-d8ab-130db065019c"
   },
   "outputs": [],
   "source": [
    "influence_region = np.ones((2,2))\n",
    "\n",
    "step2 = skimage.morphology.binary_erosion(step1, footprint=influence_region)\n",
    "\n",
    "plt.imshow(step2, cmap = 'gray');"
   ]
  },
  {
   "cell_type": "markdown",
   "id": "e30cff4f",
   "metadata": {
    "id": "hbgXHmb2AEFP"
   },
   "source": [
    "We still have some noise. So we can do another round where we *first* erode the image (to remove dust) and dilate it again to recover nuclei of correct size:"
   ]
  },
  {
   "cell_type": "code",
   "execution_count": null,
   "id": "0a831b8e",
   "metadata": {
    "colab": {
     "base_uri": "https://localhost:8080/",
     "height": 268
    },
    "executionInfo": {
     "elapsed": 754,
     "status": "ok",
     "timestamp": 1616250213342,
     "user": {
      "displayName": "Guillaume Witz",
      "photoUrl": "https://lh3.googleusercontent.com/a-/AOh14GgT0K2JVYzEsjzsS5nhkUVjUrSIJ5jHzXnBoYrmVf8=s64",
      "userId": "16033870147214403532"
     },
     "user_tz": -60
    },
    "id": "2UPXvOhUAEFP",
    "outputId": "3c3beda3-6e7b-4d13-b1b8-9cea89afdf4d"
   },
   "outputs": [],
   "source": [
    "influence_region = np.ones((2,2))\n",
    "\n",
    "step3 = skimage.morphology.binary_erosion(step2, footprint=influence_region)\n",
    "step4 = skimage.morphology.binary_dilation(step3, footprint=influence_region)\n",
    "\n",
    "plt.imshow(step4, cmap = 'gray');"
   ]
  },
  {
   "cell_type": "markdown",
   "id": "33ff9bd6",
   "metadata": {},
   "source": [
    "The combination of erosion and dilation is widely used and depending on the order of operation have specific names: opening, closing. For example, the ```binary_closing``` filter first applies a dilation and then an erosion:"
   ]
  },
  {
   "cell_type": "code",
   "execution_count": null,
   "id": "007180ef",
   "metadata": {},
   "outputs": [],
   "source": [
    "image_closed = skimage.morphology.binary_closing(mask, footprint=influence_region)\n",
    "plt.imshow(image_closed, cmap='gray');"
   ]
  },
  {
   "cell_type": "markdown",
   "id": "f0b27344",
   "metadata": {},
   "source": [
    "For example, the ```binary_opening``` filter first applies an erosion and then a dilation:"
   ]
  },
  {
   "cell_type": "code",
   "execution_count": null,
   "id": "ccd9fc7c",
   "metadata": {},
   "outputs": [],
   "source": [
    "image_open = skimage.morphology.binary_opening(mask, footprint=influence_region)\n",
    "plt.imshow(image_open, cmap='gray');"
   ]
  },
  {
   "cell_type": "markdown",
   "id": "f0d3a791",
   "metadata": {},
   "source": [
    "Other morphological operations can be employed for flood filling, removing holes, finding maxima, skeleton etc. For example, we can use `ndi.binary_fill_holes` from the `scipy` package to fill holes."
   ]
  },
  {
   "cell_type": "code",
   "execution_count": null,
   "id": "4695a0ad",
   "metadata": {},
   "outputs": [],
   "source": [
    "?ndi.binary_fill_holes"
   ]
  },
  {
   "cell_type": "code",
   "execution_count": null,
   "id": "690be6d3",
   "metadata": {},
   "outputs": [],
   "source": [
    "image_fill = ndi.binary_fill_holes(image_open, skimage.morphology.disk(3))\n",
    "plt.imshow(image_fill, cmap='gray');"
   ]
  },
  {
   "cell_type": "markdown",
   "id": "03b151e7",
   "metadata": {},
   "source": [
    "What would be the result if we had closed first and then filled the holes?"
   ]
  },
  {
   "cell_type": "code",
   "execution_count": null,
   "id": "75c5e48c",
   "metadata": {},
   "outputs": [],
   "source": [
    "image_fill = ndi.binary_fill_holes(image_closed, skimage.morphology.disk(3))\n",
    "plt.imshow(image_fill, cmap='gray');"
   ]
  },
  {
   "cell_type": "markdown",
   "id": "b849de1b",
   "metadata": {},
   "source": [
    "Next let us load back the image again and visualize all three components. The Red component corresponds to the long \"silky\" structures; the Blue component corresponds to the nuclei (as we have seen above); the Green component reflects the strength or the intensity of the signal."
   ]
  },
  {
   "cell_type": "code",
   "execution_count": null,
   "id": "8302deaf",
   "metadata": {},
   "outputs": [],
   "source": [
    "image_stack = skimage.io.imread('46658_784_B12_1.tif')\n",
    "fig, ax = plt.subplots(nrows=2, ncols=2, figsize=(8, 8), sharex = True, sharey = True) #figsize controls relative size of images\n",
    "ax = ax.ravel()\n",
    "\n",
    "ax[0].imshow(image_stack) \n",
    "ax[0].set_title(\"Noisy image\")\n",
    "ax[1].imshow(image_stack[:,:,0], cmap='gray') \n",
    "ax[1].set_title(\"Red channel\")\n",
    "\n",
    "ax[2].imshow(image_stack[:,:,1], cmap='gray')\n",
    "ax[2].set_title(\"Green channel\")\n",
    "\n",
    "ax[3].imshow(image_stack[:,:,2], cmap='gray') \n",
    "ax[3].set_title(\"Blue channel\")\n",
    "\n",
    "plt.tight_layout()\n"
   ]
  },
  {
   "cell_type": "markdown",
   "id": "3d12014f",
   "metadata": {
    "deletable": false,
    "editable": false,
    "nbgrader": {
     "cell_type": "markdown",
     "checksum": "250eee781d10dbd1fa24b73cf9cb1846",
     "grade": false,
     "grade_id": "cell-825950352b3c54d6",
     "locked": true,
     "schema_version": 3,
     "solution": false,
     "task": false
    }
   },
   "source": [
    "## Part E (4 points)\n",
    "We will attempt to identify the individual nuclei (from the blue channel). But, first, let's create a mask of the nuclei and clean it up with morphological operations. Complete the function below by implementing certain morphological operations."
   ]
  },
  {
   "cell_type": "code",
   "execution_count": null,
   "id": "ad752bd6",
   "metadata": {
    "deletable": false,
    "nbgrader": {
     "cell_type": "code",
     "checksum": "1988b0fc31e9237c471e8cf6e7629565",
     "grade": false,
     "grade_id": "cell-e98ed42dd4a74979",
     "locked": false,
     "schema_version": 3,
     "solution": true,
     "task": false
    }
   },
   "outputs": [],
   "source": [
    "def cleanImage(image_nuclei):\n",
    "    '''\n",
    "    Perform the following operations\n",
    "        1. Apply a median filter on the input image with a disk of size 5\n",
    "        2. Create a mask using otsu threshold, keeping everything greater than the threshold\n",
    "        3. Perform a closing, hole-filling operation, both with a disk of size 5\n",
    "        4. Return the resulting image\n",
    "    '''\n",
    "    # YOUR CODE HERE\n",
    "    raise NotImplementedError()"
   ]
  },
  {
   "cell_type": "code",
   "execution_count": null,
   "id": "d5bdc69c",
   "metadata": {
    "deletable": false,
    "editable": false,
    "nbgrader": {
     "cell_type": "code",
     "checksum": "ee968ff4fbd8925e81a4f306c56432b8",
     "grade": true,
     "grade_id": "cell-4171d07d677b98a1",
     "locked": true,
     "points": 4,
     "schema_version": 3,
     "solution": false,
     "task": false
    }
   },
   "outputs": [],
   "source": [
    "\n",
    "image_nuclei = image_stack[:,:,2]#blue channel in RGB\n",
    "mask_nuclei = cleanImage(image_nuclei)\n",
    "\n",
    "plt.subplots(figsize=(10,10))\n",
    "plt.imshow(mask_nuclei, cmap = 'gray');\n",
    "\n",
    "assert math.isclose(mask_nuclei.mean(), 0.13012480735778)\n",
    "print(\"Success!\")"
   ]
  },
  {
   "cell_type": "markdown",
   "id": "ebeb2d54",
   "metadata": {
    "id": "CJUUfmkuBXxy"
   },
   "source": [
    "## Labelling"
   ]
  },
  {
   "cell_type": "markdown",
   "id": "9829af1e",
   "metadata": {
    "id": "xdVMwT5KBXxz"
   },
   "source": [
    "In order to measure objects in the image separately, we first need to label them individually. For that we can just use the ```skimage.morphology.label()``` function which looks for independent groups of white pixels and assigns them integer numbers:"
   ]
  },
  {
   "cell_type": "code",
   "execution_count": null,
   "id": "d6776a05",
   "metadata": {
    "executionInfo": {
     "elapsed": 581,
     "status": "ok",
     "timestamp": 1616250342558,
     "user": {
      "displayName": "Guillaume Witz",
      "photoUrl": "https://lh3.googleusercontent.com/a-/AOh14GgT0K2JVYzEsjzsS5nhkUVjUrSIJ5jHzXnBoYrmVf8=s64",
      "userId": "16033870147214403532"
     },
     "user_tz": -60
    },
    "id": "LL3aofvKBXxz"
   },
   "outputs": [],
   "source": [
    "my_labels = skimage.morphology.label(mask_nuclei) #0 label is for the background\n",
    "print(my_labels.min(), my_labels.max())"
   ]
  },
  {
   "cell_type": "markdown",
   "id": "93dc98cd",
   "metadata": {
    "id": "xy2xS0hHBXxz"
   },
   "source": [
    "The label map shows that numbers are assigned from top to bottom in the image:"
   ]
  },
  {
   "cell_type": "code",
   "execution_count": null,
   "id": "8a7d2f7a",
   "metadata": {
    "colab": {
     "base_uri": "https://localhost:8080/",
     "height": 469
    },
    "executionInfo": {
     "elapsed": 1936,
     "status": "ok",
     "timestamp": 1616250350395,
     "user": {
      "displayName": "Guillaume Witz",
      "photoUrl": "https://lh3.googleusercontent.com/a-/AOh14GgT0K2JVYzEsjzsS5nhkUVjUrSIJ5jHzXnBoYrmVf8=s64",
      "userId": "16033870147214403532"
     },
     "user_tz": -60
    },
    "id": "apyNDDlGBXxz",
    "outputId": "612015ee-1d9f-4a88-f4b3-c48ef5a64085"
   },
   "outputs": [],
   "source": [
    "plt.subplots(figsize=(10,10))\n",
    "plt.imshow(my_labels);"
   ]
  },
  {
   "cell_type": "markdown",
   "id": "18635ea6",
   "metadata": {
    "id": "0jPSDQ9mBXx0"
   },
   "source": [
    "## Region properties"
   ]
  },
  {
   "cell_type": "markdown",
   "id": "b2611ed3",
   "metadata": {
    "id": "RxpTZ7QBBXx0"
   },
   "source": [
    "Now that we have each region labeled with a different number we can use the ```skimage.measure.regionprops_table()``` function, which takes such as label map and analyzes the geometric properties of each region. We have to specifiy which ```properties``` we want to use. For example the ```area``` and ```labels```:"
   ]
  },
  {
   "cell_type": "code",
   "execution_count": null,
   "id": "280da503",
   "metadata": {
    "executionInfo": {
     "elapsed": 678,
     "status": "ok",
     "timestamp": 1616250356562,
     "user": {
      "displayName": "Guillaume Witz",
      "photoUrl": "https://lh3.googleusercontent.com/a-/AOh14GgT0K2JVYzEsjzsS5nhkUVjUrSIJ5jHzXnBoYrmVf8=s64",
      "userId": "16033870147214403532"
     },
     "user_tz": -60
    },
    "id": "mmpXctCgBXx0"
   },
   "outputs": [],
   "source": [
    "my_regions = skimage.measure.regionprops_table(my_labels, properties=('label','area'))"
   ]
  },
  {
   "cell_type": "markdown",
   "id": "21642da7",
   "metadata": {
    "id": "lvdTxbDdBXx0"
   },
   "source": [
    "The output is a dictionary of all properties that we asked to get out. Recall, dictionaries are data structure that contain pairs of elements: keys like ```label``` and ```area``` and a *content* for each key, here two Numpy arrays:"
   ]
  },
  {
   "cell_type": "code",
   "execution_count": null,
   "id": "75654284",
   "metadata": {
    "colab": {
     "base_uri": "https://localhost:8080/"
    },
    "executionInfo": {
     "elapsed": 501,
     "status": "ok",
     "timestamp": 1616250357412,
     "user": {
      "displayName": "Guillaume Witz",
      "photoUrl": "https://lh3.googleusercontent.com/a-/AOh14GgT0K2JVYzEsjzsS5nhkUVjUrSIJ5jHzXnBoYrmVf8=s64",
      "userId": "16033870147214403532"
     },
     "user_tz": -60
    },
    "id": "xAWRDyguBXx1",
    "outputId": "23f38263-755f-4567-ecc8-5ec9003c626b"
   },
   "outputs": [],
   "source": [
    "my_regions"
   ]
  },
  {
   "cell_type": "markdown",
   "id": "31a2750e",
   "metadata": {
    "id": "ctIzlnC7BXx9"
   },
   "source": [
    "## Filtering information\n",
    "\n",
    "Obviously, we had some \"bad segmentations\", i.e. some fragments remaining from the processing that are not actual nuclei. Can you visually identify them for the mask above?\n",
    "\n",
    "We can easily filter those out for example based on size using Numpy logical indexing:"
   ]
  },
  {
   "cell_type": "code",
   "execution_count": null,
   "id": "22522ca2",
   "metadata": {},
   "outputs": [],
   "source": [
    "my_regions['area']"
   ]
  },
  {
   "cell_type": "markdown",
   "id": "56aed1ec",
   "metadata": {},
   "source": [
    "We create a logical array by setting a condition on one dictionary entry:"
   ]
  },
  {
   "cell_type": "code",
   "execution_count": null,
   "id": "006b4209",
   "metadata": {},
   "outputs": [],
   "source": [
    "selected = my_regions['area'] > 100\n",
    "selected"
   ]
  },
  {
   "cell_type": "markdown",
   "id": "db2bf4d1",
   "metadata": {},
   "source": [
    "And then use it for logical indexing:"
   ]
  },
  {
   "cell_type": "code",
   "execution_count": null,
   "id": "c07cb59e",
   "metadata": {},
   "outputs": [],
   "source": [
    "my_regions['area'][selected]"
   ]
  },
  {
   "cell_type": "markdown",
   "id": "684819a0",
   "metadata": {
    "deletable": false,
    "editable": false,
    "nbgrader": {
     "cell_type": "markdown",
     "checksum": "960cdd1afeabaf3812c2bf7dfc90c445",
     "grade": false,
     "grade_id": "cell-d7bd2b165601383f",
     "locked": true,
     "schema_version": 3,
     "solution": false,
     "task": false
    }
   },
   "source": [
    "## Part F (5 points)\n",
    "Given a mask, find and remove regions whose area is less than a threshold."
   ]
  },
  {
   "cell_type": "code",
   "execution_count": null,
   "id": "f48038ed",
   "metadata": {
    "deletable": false,
    "nbgrader": {
     "cell_type": "code",
     "checksum": "89a44571e9d3857d970b2d82fd392cdd",
     "grade": false,
     "grade_id": "cell-aba0abd108ad7fe2",
     "locked": false,
     "schema_version": 3,
     "solution": true,
     "task": false
    }
   },
   "outputs": [],
   "source": [
    "def removeSmallRegionsFromMask(mask, thresh):\n",
    "    '''\n",
    "    Labels independent regions in the mask.\n",
    "    Finds those regions whose area is less than thresh.\n",
    "    Creates a new labeled image in which these regions are removed (by setting their value to 0) \n",
    "    Returns the original and new labeled image in a tuple\n",
    "    '''\n",
    "\n",
    "    # YOUR CODE HERE\n",
    "    raise NotImplementedError()\n"
   ]
  },
  {
   "cell_type": "code",
   "execution_count": null,
   "id": "9cb7c9ef",
   "metadata": {
    "deletable": false,
    "editable": false,
    "nbgrader": {
     "cell_type": "code",
     "checksum": "05ede931aa7760ead84b43221aad1454",
     "grade": true,
     "grade_id": "cell-e6d92b82770662db",
     "locked": true,
     "points": 3,
     "schema_version": 3,
     "solution": false,
     "task": false
    }
   },
   "outputs": [],
   "source": [
    "#remove regions with area < 1000\n",
    "orig_labels, new_labels = removeSmallRegionsFromMask(mask_nuclei, 1000)\n",
    "\n",
    "orig_nonzero = np.count_nonzero(orig_labels)\n",
    "new_nonzero = np.count_nonzero(new_labels)\n",
    "\n",
    "fig, ax = plt.subplots(nrows=1, ncols=2, figsize=(15, 10), sharex = True, sharey = True) #figsize controls relative size of images\n",
    "ax[0].imshow(orig_labels)\n",
    "ax[1].imshow(new_labels)\n",
    "\n",
    "assert orig_nonzero == 545783\n",
    "assert new_nonzero == 544894\n",
    "print(\"Success!\")\n"
   ]
  },
  {
   "cell_type": "code",
   "execution_count": null,
   "id": "9850ec2d",
   "metadata": {
    "deletable": false,
    "editable": false,
    "nbgrader": {
     "cell_type": "code",
     "checksum": "fbae968bb341b627cca87f3de1ae8983",
     "grade": true,
     "grade_id": "cell-8b49923b2be1b7a2",
     "locked": true,
     "points": 2,
     "schema_version": 3,
     "solution": false,
     "task": false
    }
   },
   "outputs": [],
   "source": [
    "#remove regions with area < 25000\n",
    "orig_labels, new_labels = removeSmallRegionsFromMask(mask_nuclei, 25000)\n",
    "\n",
    "orig_nonzero = np.count_nonzero(orig_labels)\n",
    "new_nonzero = np.count_nonzero(new_labels)\n",
    "\n",
    "fig, ax = plt.subplots(nrows=1, ncols=2, figsize=(15, 10), sharex = True, sharey = True) #figsize controls relative size of images\n",
    "ax[0].imshow(orig_labels)\n",
    "ax[1].imshow(new_labels)\n",
    "\n",
    "assert orig_nonzero == 545783\n",
    "assert new_nonzero == 474359\n",
    "print(\"Success!\")\n"
   ]
  },
  {
   "cell_type": "markdown",
   "id": "6f7feead",
   "metadata": {
    "id": "7SmPI39ZBXx3"
   },
   "source": [
    "## Recovering image intensity information"
   ]
  },
  {
   "cell_type": "markdown",
   "id": "d8a76836",
   "metadata": {
    "id": "5NKFaWCzBXx3"
   },
   "source": [
    "In what we did above, we only recovered information about our mask. However often we want to obtain information on pixel values of the **original** image. For example, \"what is the average intensity of each nucleus?\"\n",
    "\n",
    "Luckily ```regionprops_table``` allows us to pass as additional argument ```intensity_image``` the image we want to use to quantify intensity. Then we can for example add as property to extract the ```mean_intensity```:"
   ]
  },
  {
   "cell_type": "code",
   "execution_count": null,
   "id": "e4e5e6b6",
   "metadata": {},
   "outputs": [],
   "source": [
    "image_signal = image_stack[:,:,1]#green channel in RGB"
   ]
  },
  {
   "cell_type": "code",
   "execution_count": null,
   "id": "c49353f0",
   "metadata": {
    "executionInfo": {
     "elapsed": 502,
     "status": "ok",
     "timestamp": 1616250379810,
     "user": {
      "displayName": "Guillaume Witz",
      "photoUrl": "https://lh3.googleusercontent.com/a-/AOh14GgT0K2JVYzEsjzsS5nhkUVjUrSIJ5jHzXnBoYrmVf8=s64",
      "userId": "16033870147214403532"
     },
     "user_tz": -60
    },
    "id": "SfajCPMvBXx4"
   },
   "outputs": [],
   "source": [
    "my_regions = skimage.measure.regionprops_table(\n",
    "    my_labels,intensity_image=image_signal, properties=('label','area','mean_intensity'))"
   ]
  },
  {
   "cell_type": "markdown",
   "id": "6920520c",
   "metadata": {
    "id": "YHdAPnsqBXx4"
   },
   "source": [
    "Now we have access to additional parameters. For example the mean_intensity in each nucleus:"
   ]
  },
  {
   "cell_type": "code",
   "execution_count": null,
   "id": "4ec158a0",
   "metadata": {
    "colab": {
     "base_uri": "https://localhost:8080/"
    },
    "executionInfo": {
     "elapsed": 514,
     "status": "ok",
     "timestamp": 1616250382794,
     "user": {
      "displayName": "Guillaume Witz",
      "photoUrl": "https://lh3.googleusercontent.com/a-/AOh14GgT0K2JVYzEsjzsS5nhkUVjUrSIJ5jHzXnBoYrmVf8=s64",
      "userId": "16033870147214403532"
     },
     "user_tz": -60
    },
    "id": "_PuK9oxdBXx4",
    "outputId": "20c037cb-7628-45c8-b41a-ad973d7e634c"
   },
   "outputs": [],
   "source": [
    "my_regions"
   ]
  },
  {
   "cell_type": "markdown",
   "id": "6413e13b",
   "metadata": {},
   "source": [
    "Now that we have this information, we can of course, plot it (for example we can produce a histogram of mean nuclei intensities) or use it for removing certain objects with mean intensities below/above a certain threshold. "
   ]
  },
  {
   "cell_type": "code",
   "execution_count": null,
   "id": "ae7c3468",
   "metadata": {
    "colab": {
     "base_uri": "https://localhost:8080/",
     "height": 265
    },
    "executionInfo": {
     "elapsed": 795,
     "status": "ok",
     "timestamp": 1616250403913,
     "user": {
      "displayName": "Guillaume Witz",
      "photoUrl": "https://lh3.googleusercontent.com/a-/AOh14GgT0K2JVYzEsjzsS5nhkUVjUrSIJ5jHzXnBoYrmVf8=s64",
      "userId": "16033870147214403532"
     },
     "user_tz": -60
    },
    "id": "sWIsqx_4BXx5",
    "outputId": "b1d01701-4ac3-4c7e-e2a2-3e6a86624e7f"
   },
   "outputs": [],
   "source": [
    "plt.hist(my_regions['mean_intensity']);"
   ]
  },
  {
   "cell_type": "markdown",
   "id": "c7576048",
   "metadata": {},
   "source": [
    "## Challenge question. \n",
    "\n",
    "Process the mask below using morphological operations to label the 24 coins separately. Example output:\n",
    "\n",
    "![output](coins_challenge.png)"
   ]
  },
  {
   "cell_type": "code",
   "execution_count": null,
   "id": "076f8f2a",
   "metadata": {},
   "outputs": [],
   "source": [
    "coins = data.coins()\n",
    "val = filters.threshold_otsu(coins)\n",
    "mask = coins > val\n",
    "plt.imshow(mask, cmap = 'gray')"
   ]
  }
 ],
 "metadata": {
  "kernelspec": {
   "display_name": "Python 3 (ipykernel)",
   "language": "python",
   "name": "python3"
  },
  "language_info": {
   "codemirror_mode": {
    "name": "ipython",
    "version": 3
   },
   "file_extension": ".py",
   "mimetype": "text/x-python",
   "name": "python",
   "nbconvert_exporter": "python",
   "pygments_lexer": "ipython3",
   "version": "3.9.12"
  }
 },
 "nbformat": 4,
 "nbformat_minor": 5
}
